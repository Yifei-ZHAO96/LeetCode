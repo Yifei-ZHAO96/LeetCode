{
 "cells": [
  {
   "cell_type": "code",
   "execution_count": 29,
   "metadata": {},
   "outputs": [
    {
     "name": "stdout",
     "output_type": "stream",
     "text": [
      "2\n",
      "21\n",
      "214\n",
      "2147\n",
      "21474\n",
      "214748\n",
      "2147483\n",
      "21474836\n",
      "214748364\n"
     ]
    },
    {
     "data": {
      "text/plain": [
       "-2147483648"
      ]
     },
     "execution_count": 29,
     "metadata": {},
     "output_type": "execute_result"
    }
   ],
   "source": [
    "def myAtoi(s: str) -> int:\n",
    "    res = 0\n",
    "\n",
    "    i = 0\n",
    "    max_v = 2**31 -1\n",
    "    min_v = -2**31\n",
    "    sign = 1\n",
    "\n",
    "    while i < len(s) and s[i] == ' ':\n",
    "        i += 1\n",
    "    \n",
    "    if i < len(s) and s[i] in {'-', '+'}:\n",
    "        sign = 1 if s[i] == '+' else -1\n",
    "        i += 1\n",
    "    \n",
    "    while i < len(s) and s[i].isdigit():\n",
    "        cur = int(s[i])\n",
    "        if (sign == 1):\n",
    "            if (res > max_v // 10) or (res == max_v // 10 and cur > max_v % 10): \n",
    "                return max_v\n",
    "        \n",
    "        if (sign == -1):\n",
    "            if (-res < 1 + min_v // 10) or (-res == 1 + min_v // 10 and cur > 10 - min_v % 10):\n",
    "                return min_v\n",
    "        \n",
    "        res = res * 10 + cur\n",
    "        i += 1\n",
    "        print(res)\n",
    "    return res * sign\n",
    "\n",
    "s = \"-2147483649\"\n",
    "myAtoi(s)"
   ]
  },
  {
   "cell_type": "code",
   "execution_count": 9,
   "metadata": {},
   "outputs": [
    {
     "name": "stdout",
     "output_type": "stream",
     "text": [
      "1\n",
      "11\n"
     ]
    }
   ],
   "source": [
    "s = '1'\n",
    "n = 3\n",
    "\n",
    "for _ in range(n-1): \n",
    "    print(s)\n",
    "    count = 1\n",
    "    new_s = ''\n",
    "    c = s[0]\n",
    "\n",
    "    for i in range(1, len(s)):\n",
    "\n",
    "        if c == s[i]:\n",
    "            count += 1\n",
    "\n",
    "        else:\n",
    "            new_s += str(count) + c\n",
    "            count = 1\n",
    "            c = s[i]\n",
    "    new_s += str(count) + c\n",
    "    s = new_s\n"
   ]
  },
  {
   "cell_type": "code",
   "execution_count": 4,
   "metadata": {},
   "outputs": [
    {
     "name": "stdout",
     "output_type": "stream",
     "text": [
      "[1, 2, 3, 0, 5, 6] 2 0\n",
      "[1, 2, 2, 3, 5, 6] 0 -1\n"
     ]
    }
   ],
   "source": [
    "from typing import List\n",
    "\n",
    "nums1 = [1,2,3,0,0,0]\n",
    "m = 3\n",
    "nums2 = [2,5,6]\n",
    "n = 3\n",
    "def merge(nums1: List[int], m: int, nums2: List[int], n: int) -> None:\n",
    "        \"\"\"\n",
    "        Do not return anything, modify nums1 in-place instead.\n",
    "        \"\"\"\n",
    "        i, j = m-1, n-1\n",
    "        r = m + n - 1\n",
    "\n",
    "        while i >= 0 and j >= 0:\n",
    "            while i >= 0 and j >= 0 and nums1[i] >= nums2[j]:\n",
    "                nums1[r] = nums1[i]\n",
    "                i -= 1\n",
    "                r -= 1\n",
    "            \n",
    "            while j >= 0 and i >= 0 and nums1[i] <= nums2[j]:\n",
    "                nums1[r] = nums2[j]\n",
    "                j -= 1\n",
    "                r -= 1\n",
    "            \n",
    "            print(nums1, i, j)\n",
    "        \n",
    "        while j >= 0:\n",
    "            nums1[r] = nums2[j]\n",
    "            j -= 1\n",
    "            r -= 1\n",
    "            \n",
    "merge(nums1, m, nums2, n)\n"
   ]
  },
  {
   "cell_type": "code",
   "execution_count": 13,
   "metadata": {},
   "outputs": [
    {
     "name": "stdout",
     "output_type": "stream",
     "text": [
      "aab a a\n",
      "ab a a\n",
      "b b b\n",
      "aab aa aa\n",
      "b b b\n"
     ]
    },
    {
     "data": {
      "text/plain": [
       "[['a', 'a', 'b'], ['aa', 'b']]"
      ]
     },
     "execution_count": 13,
     "metadata": {},
     "output_type": "execute_result"
    }
   ],
   "source": [
    "def partition(s: str) -> List[List[str]]:\n",
    "    res = []\n",
    "\n",
    "    def dfs(s, path, res):\n",
    "        if not s:\n",
    "            # deep copy\n",
    "            res.append(path[:])\n",
    "            return\n",
    "        \n",
    "        for i in range(1, len(s)+1):\n",
    "            if s[:i] == s[i-1::-1]:\n",
    "                print(s, s[:i], s[i-1::-1])\n",
    "                dfs(s[i:], path+[s[:i]], res)\n",
    "    \n",
    "    dfs(s, [], res)\n",
    "\n",
    "    return res\n",
    "\n",
    "s = \"aab\"\n",
    "partition(s)"
   ]
  },
  {
   "cell_type": "code",
   "execution_count": 22,
   "metadata": {},
   "outputs": [
    {
     "name": "stdout",
     "output_type": "stream",
     "text": [
      "0 ['10', '6', '9', '3', '+', '-11', '*', '/', '*', '17', '+', '5', '+']\n",
      "1 ['10', '6', '9', '3', '+', '-11', '*', '/', '*', '17', '+', '5', '+']\n",
      "2 ['10', '6', '9', '3', '+', '-11', '*', '/', '*', '17', '+', '5', '+']\n",
      "3 ['10', '6', '9', '3', '+', '-11', '*', '/', '*', '17', '+', '5', '+']\n",
      "4 ['10', '6', '9', '3', '+', '-11', '*', '/', '*', '17', '+', '5', '+']\n",
      "3 ['10', '6', '12', '3', '+', '-11', '*', '/', '*', '17', '+', '5', '+']\n",
      "4 ['10', '6', '12', '-11', '+', '-11', '*', '/', '*', '17', '+', '5', '+']\n",
      "3 ['10', '6', '-132', '-11', '+', '-11', '*', '/', '*', '17', '+', '5', '+']\n",
      "2 ['10', '0', '-132', '-11', '+', '-11', '*', '/', '*', '17', '+', '5', '+']\n",
      "1 ['0', '0', '-132', '-11', '+', '-11', '*', '/', '*', '17', '+', '5', '+']\n",
      "2 ['0', '17', '-132', '-11', '+', '-11', '*', '/', '*', '17', '+', '5', '+']\n",
      "1 ['17', '17', '-132', '-11', '+', '-11', '*', '/', '*', '17', '+', '5', '+']\n",
      "2 ['17', '5', '-132', '-11', '+', '-11', '*', '/', '*', '17', '+', '5', '+']\n"
     ]
    },
    {
     "data": {
      "text/plain": [
       "22"
      ]
     },
     "execution_count": 22,
     "metadata": {},
     "output_type": "execute_result"
    }
   ],
   "source": [
    "def evalRPN(tokens: List[str]) -> int:\n",
    "    top = 0\n",
    "    for t in tokens:\n",
    "        print(top, tokens)\n",
    "        if t in [\"+\", \"-\", \"*\", \"/\"]:\n",
    "            op1 = int(tokens[top - 1])\n",
    "            top -= 1\n",
    "            op2 = int(tokens[top - 1])\n",
    "            top -= 1\n",
    "            if t == \"+\":\n",
    "                op1 = op2 + op1\n",
    "            if t == \"-\":\n",
    "                op1 = op2 - op1\n",
    "            if t == \"/\":\n",
    "                op1 = int(op2 / op1)\n",
    "            if t == \"*\":\n",
    "                op1 = op2 * op1\n",
    "            tokens[top] = str(op1)\n",
    "            top += 1\n",
    "        else:\n",
    "            tokens[top] = t\n",
    "            top += 1\n",
    "            \n",
    "    return int(tokens[0])\n",
    "\n",
    "tokens = [\"2\",\"1\",\"+\",\"3\",\"*\"]\n",
    "tokens = [\"4\",\"13\",\"5\",\"/\",\"+\"]\n",
    "tokens = [\"10\",\"6\",\"9\",\"3\",\"+\",\"-11\",\"*\",\"/\",\"*\",\"17\",\"+\",\"5\",\"+\"]\n",
    "evalRPN(tokens)"
   ]
  },
  {
   "cell_type": "code",
   "execution_count": 36,
   "metadata": {},
   "outputs": [
    {
     "name": "stdout",
     "output_type": "stream",
     "text": [
      "76\n"
     ]
    },
    {
     "data": {
      "text/plain": [
       "['2', '4->49', '51->74', '76->99']"
      ]
     },
     "execution_count": 36,
     "metadata": {},
     "output_type": "execute_result"
    }
   ],
   "source": [
    "# Given a sorted integer array nums, where the range of elements are in the inclusive range [lower, upper], return its missing ranges.\n",
    "\n",
    "# Example:\n",
    "\n",
    "# Input: nums = [0, 1, 3, 50, 75], lower = 0 and upper = 99,\n",
    "# Output: [\"2\", \"4->49\", \"51->74\", \"76->99\"]\n",
    "\n",
    "def solution(nums, lower, upper):\n",
    "    res = []\n",
    "    \n",
    "    i = 0\n",
    "    next = lower\n",
    "    while i < len(nums):\n",
    "        while i < len(nums) and nums[i] < next:\n",
    "            i += 1\n",
    "        if nums[i] >= upper:\n",
    "            add_range(next, nums[i]-1, res)\n",
    "            next = upper + 1\n",
    "            break\n",
    "                \n",
    "        if next == nums[i]:\n",
    "            i += 1\n",
    "            next += 1\n",
    "            continue\n",
    "        \n",
    "        add_range(next, nums[i]-1, res)\n",
    "        next = nums[i] + 1\n",
    "        i += 1\n",
    "    \n",
    "    if next <= upper:\n",
    "        add_range(next, upper, res)\n",
    "    return res\n",
    "\n",
    "def add_range(start, end, res):\n",
    "    res.append(str(start) if start == end else str(start) + '->' + str(end))\n",
    "\n",
    "nums = [0, 1, 3, 50, 75]\n",
    "lower = 0\n",
    "upper = 99\n",
    "# nums = [0, 1, 2, 3, 7]\n",
    "# lower = 0\n",
    "# upper = 7\n",
    "\n",
    "solution(nums, lower, upper)"
   ]
  },
  {
   "cell_type": "code",
   "execution_count": 38,
   "metadata": {},
   "outputs": [
    {
     "data": {
      "text/plain": [
       "3"
      ]
     },
     "execution_count": 38,
     "metadata": {},
     "output_type": "execute_result"
    }
   ],
   "source": [
    "def majorityElement(nums):\n",
    "    \n",
    "    # Boyer's Moore Algorithm --> O(1) Space\n",
    "    \n",
    "    # We first assume that our first num is the majority element\n",
    "    # So the count here is 1 as we have seen it 1 times, if the \n",
    "    # count in the end is greater than 0 we are sure that this is majority element\n",
    "    # as if you take count of majority element and subtract sum of all counts of non\n",
    "    # Majority element, if that count is still positive that it proves that is\n",
    "    # majority element. We do not need to check count in end over here as we are \n",
    "    # sure that there exists a majority element.\n",
    "    count = 1\n",
    "    \n",
    "    # Our Initial guess that this is the majority element\n",
    "    result = nums[0]\n",
    "    \n",
    "    for num in nums[1:]:\n",
    "        # If the next number is not same as prev\n",
    "        # and count becomes 0 make this number as majority element and initialize \n",
    "        # count to 1 again else just decrease the count\n",
    "        if num != result:\n",
    "            # decrease count by 1\n",
    "            count -= 1\n",
    "            # Make this element as majority element\n",
    "            if count == 0:\n",
    "                result = num\n",
    "                count = 1            \n",
    "        else:\n",
    "            # This is same element as previous one.\n",
    "            count += 1\n",
    "    \n",
    "    return result\n",
    "nums = [1,1,2,2,2,3,3]\n",
    "majorityElement(nums)"
   ]
  },
  {
   "cell_type": "code",
   "execution_count": 43,
   "metadata": {},
   "outputs": [
    {
     "data": {
      "text/plain": [
       "'9534330'"
      ]
     },
     "execution_count": 43,
     "metadata": {},
     "output_type": "execute_result"
    }
   ],
   "source": [
    "class Wrapper:\n",
    "    def __init__(self, val) -> None:\n",
    "        self.val = str(val)\n",
    "    \n",
    "    def __lt__(self, other):\n",
    "        return (self.val + other.val) < (other.val + self.val)\n",
    "\n",
    "nums = [3,30,34,5,9]\n",
    "nums = [Wrapper(n) for n in nums]\n",
    "nums.sort(reverse=True)\n",
    "''.join([n.val for n in nums])"
   ]
  },
  {
   "cell_type": "code",
   "execution_count": 10,
   "metadata": {},
   "outputs": [
    {
     "name": "stdout",
     "output_type": "stream",
     "text": [
      "0\n"
     ]
    },
    {
     "data": {
      "text/plain": [
       "True"
      ]
     },
     "execution_count": 10,
     "metadata": {},
     "output_type": "execute_result"
    }
   ],
   "source": [
    "import collections\n",
    "from collections import deque\n",
    "from typing import *\n",
    "\n",
    "def canFinish(numCourses: int, prerequisites: List[List[int]]) -> bool:\n",
    "    prerequisite = collections.defaultdict(list)\n",
    "    counter = collections.Counter()\n",
    "\n",
    "    for course, pre in prerequisites:\n",
    "        prerequisite[pre].append(course)\n",
    "        counter[course] += 1\n",
    "    \n",
    "    q = deque()\n",
    "    for course in range(numCourses):\n",
    "        if counter[course] == 0:\n",
    "            q.append(course)\n",
    "\n",
    "    while q:\n",
    "        course = q.popleft()\n",
    "        numCourses -= 1\n",
    "\n",
    "        for neighbor in prerequisite[course]:\n",
    "            counter[neighbor] -= 1\n",
    "            if counter[neighbor] == 0:\n",
    "                q.append(neighbor)\n",
    "    \n",
    "    print(numCourses)\n",
    "    return numCourses == 0\n",
    "\n",
    "numCourses = 2\n",
    "prerequisites = [[1,0]]\n",
    "canFinish(numCourses, prerequisites)"
   ]
  },
  {
   "cell_type": "code",
   "execution_count": 15,
   "metadata": {},
   "outputs": [
    {
     "data": {
      "text/plain": [
       "1"
      ]
     },
     "execution_count": 15,
     "metadata": {},
     "output_type": "execute_result"
    }
   ],
   "source": [
    "# 253 meeting rooms 2\n",
    "\n",
    "# minheap solution: O(NlogN) O(N)\n",
    "# import heapq\n",
    "\n",
    "# def minMeetingRooms(intervals: List[List[int]]) -> int:\n",
    "#     heap = []\n",
    "    \n",
    "#     for start, end in sorted(intervals):\n",
    "#         # release room\n",
    "#         if heap and heap[0] <= start:\n",
    "#             heapq.heappop(heap)\n",
    "        \n",
    "#         heapq.heappush(heap, end)\n",
    "#     return len(heap)\n",
    "\n",
    "# intervals = [[7,10],[2,4]]\n",
    "# minMeetingRooms(intervals)\n",
    "\n",
    "def minMeetingRooms(intervals: List[List[int]]) -> int:\n",
    "    start = []\n",
    "    end = []\n",
    "    \n",
    "    for s, e in intervals:\n",
    "        start.append(s)\n",
    "        end.append(e)\n",
    "    \n",
    "    start.sort()\n",
    "    end.sort()\n",
    "    res = 0\n",
    "    \n",
    "    j = 0\n",
    "    for i in range(len(start)):\n",
    "        if start[i] < end[j]:\n",
    "            res += 1\n",
    "        else:\n",
    "            j += 1\n",
    "    \n",
    "    return res\n",
    "\n",
    "intervals = [[7,10],[2,4]]\n",
    "minMeetingRooms(intervals)"
   ]
  },
  {
   "cell_type": "code",
   "execution_count": 18,
   "metadata": {},
   "outputs": [
    {
     "data": {
      "text/plain": [
       "1"
      ]
     },
     "execution_count": 18,
     "metadata": {},
     "output_type": "execute_result"
    }
   ],
   "source": [
    "# 2402 meeting rooms 3\n",
    "# https://leetcode.ca/2022-10-21-2402-Meeting-Rooms-III/\n",
    "import heapq\n",
    "class Solution:\n",
    "    # O(NlogN) O(N)\n",
    "    def mostBooked(self, n: int, meetings: List[List[int]]) -> int:\n",
    "        count = [0] * n\n",
    "\n",
    "        meetings.sort()\n",
    "\n",
    "        occupied = []  # (endTime, roomId)\n",
    "        availableRoomIds = [i for i in range(n)]\n",
    "        heapq.heapify(availableRoomIds)\n",
    "\n",
    "        for start, end in meetings:\n",
    "        # Push meetings ending before this `meeting` in occupied to\n",
    "        # `availableRoomsIds`\n",
    "            while occupied and occupied[0][0] <= start: # last_end <= cur_start\n",
    "                heapq.heappush(availableRoomIds, heapq.heappop(occupied)[1]) # push room_id\n",
    "                \n",
    "            if availableRoomIds:\n",
    "                roomId = heapq.heappop(availableRoomIds)\n",
    "                heapq.heappush(occupied, (end, roomId))\n",
    "                \n",
    "            else:\n",
    "                newStart, roomId = heapq.heappop(occupied)\n",
    "                heapq.heappush(occupied, (newStart + (end - start), roomId))\n",
    "            \n",
    "            count[roomId] += 1\n",
    "\n",
    "        return count.index(max(count))\n",
    "    \n",
    "s = Solution()\n",
    "n = 2\n",
    "meetings = [[0,10],[1,5],[2,7],[3,4]]\n",
    "print(s.mostBooked(n, meetings))\n",
    "n = 3\n",
    "meetings = [[1,20],[2,10],[3,5],[4,9],[6,8]]\n",
    "print(s.mostBooked(n, meetings))"
   ]
  },
  {
   "cell_type": "code",
   "execution_count": 21,
   "metadata": {},
   "outputs": [
    {
     "data": {
      "text/plain": [
       "'wertf'"
      ]
     },
     "execution_count": 21,
     "metadata": {},
     "output_type": "execute_result"
    }
   ],
   "source": [
    "# 269 alien dictionary\n",
    "# https://leetcode.ca/2016-08-25-269-Alien-Dictionary/\n",
    "def alienOrder(words: List[str]) -> str:\n",
    "    graph = collections.defaultdict(set)\n",
    "    indegree = collections.defaultdict(int)\n",
    "    \n",
    "    def build_graph(words, graph, indegree):\n",
    "        # build graph\n",
    "        for first, second in zip(words, words[1:]):\n",
    "            length = min(len(first), len(second))\n",
    "            \n",
    "            for i in range(length):\n",
    "                f = first[i]\n",
    "                s = second[i]\n",
    "                \n",
    "                if f != s:\n",
    "                    if s not in graph[f]:\n",
    "                        graph[f].add(s)\n",
    "                        indegree[s] += 1\n",
    "                    \n",
    "                    break # Later characters' order are meaningless\n",
    "                \n",
    "                # First = 'ab', second = 'a' . invalid\n",
    "                if i == length - 1 and len(first) > len(second):\n",
    "                    graph.clear()\n",
    "    \n",
    "    def topology(graph, indegree) -> str:\n",
    "        q = deque([w for w in graph.keys() if indegree[w] == 0])\n",
    "        res = ''\n",
    "        \n",
    "        while q:\n",
    "            w = q.popleft()\n",
    "            res += w\n",
    "            \n",
    "            for next_ in graph[w]:\n",
    "                indegree[next_] -= 1\n",
    "                if not indegree[next_]:\n",
    "                    q.append(next_)\n",
    "        \n",
    "        return res if len(res) == len(graph) else ''\n",
    "    \n",
    "    build_graph(words, graph, indegree)\n",
    "    return topology(graph, indegree)\n",
    "\n",
    "words = [\"wrt\",\"wrf\",\"er\",\"ett\",\"rftt\"]\n",
    "alienOrder(words)"
   ]
  },
  {
   "cell_type": "code",
   "execution_count": 26,
   "metadata": {},
   "outputs": [
    {
     "data": {
      "text/plain": [
       "2"
      ]
     },
     "execution_count": 26,
     "metadata": {},
     "output_type": "execute_result"
    }
   ],
   "source": [
    "# O(N) O(N)\n",
    "def lengthOfLongestSubstringTwoDistinct(s: str, k: int) -> int:\n",
    "    counter = collections.Counter()\n",
    "    res, i = 0, 0\n",
    "    \n",
    "    for j in range(len(s)):\n",
    "        counter[s[j]] += 1\n",
    "        \n",
    "        while len(counter) > k:\n",
    "            counter[s[i]] -= 1\n",
    "            \n",
    "            if counter[s[i]] == 0:\n",
    "                counter.pop(s[i])\n",
    "                i += 1\n",
    "                \n",
    "        res = max(res, j-i+1)\n",
    "                \n",
    "        \n",
    "    return res\n",
    "    \n",
    "s = \"eceba\"\n",
    "k = 2\n",
    "\n",
    "s = \"aa\"\n",
    "k = 1\n",
    "lengthOfLongestSubstringTwoDistinct(s, k)"
   ]
  },
  {
   "cell_type": "code",
   "execution_count": null,
   "metadata": {},
   "outputs": [],
   "source": [
    "# Design a data structure to perform three operations (Restaurant is full initially):\n",
    "# 1) waitList (int group_id, int group_size):\n",
    "# Add the group and group size they want to book into the waitlist\n",
    "# 2) leave (int group_id):\n",
    "# Group wants to leave the waitlist so remove them.\n",
    "# 3) serve (int group_size):\n",
    "# This means restaurant now has a free table of size equal to group_size. Find the group whose required size is less than or equal to the group_size. If multiple customers are matching use first come first serve. to serve from waitlist\n",
    "\n",
    "# I solved it using deque.\n",
    "\n",
    "class DoubleLinkedList:\n",
    "    def __init__(self, id, size) -> None:\n",
    "        self.id = id\n",
    "        self.size = size\n",
    "        self.pre = None\n",
    "        self.next = None\n",
    "\n",
    "class Restaurant:\n",
    "    def __init__(self) -> None:\n",
    "        self.head = DoubleLinkedList(-1, -1)\n",
    "        self.tail = DoubleLinkedList(-1, -1)\n",
    "        self.head.next = self.tail\n",
    "        self.tail.pre = self.next\n",
    "        self.dic = {}\n",
    "    # O(1)\n",
    "    def waitlist(self, group_id, group_size):\n",
    "        cur = DoubleLinkedList(group_id, group_size)\n",
    "        pre = self.tail.pre\n",
    "        pre.next = cur\n",
    "        cur.next = self.tail\n",
    "        cur.pre = pre\n",
    "        self.tail.pre = cur\n",
    "        self.dic[group_id] = cur\n",
    "    # O(1)\n",
    "    def leave(self, group_id):\n",
    "        cur = self.dic.get(group_id)\n",
    "        if not cur:\n",
    "            return\n",
    "        cur.pre.next =  cur.next\n",
    "        cur.next.pre = cur.pre\n",
    "        del self.dic[group_id]\n",
    "    # O(N)\n",
    "    def server(self, group_size):\n",
    "        cur = self.head\n",
    "        while cur and cur.size < group_size:\n",
    "            cur = cur.next\n",
    "        if not cur:\n",
    "            return\n",
    "        self.leave(cur.id)\n",
    "        return cur.id\n",
    "        "
   ]
  },
  {
   "cell_type": "code",
   "execution_count": 15,
   "metadata": {},
   "outputs": [
    {
     "data": {
      "text/plain": [
       "0.94817918579465"
      ]
     },
     "execution_count": 15,
     "metadata": {},
     "output_type": "execute_result"
    }
   ],
   "source": [
    "import pandas as pd\n",
    "\n",
    "df = pd.read_csv('C:/Users/42514/OneDrive/桌面/M2SL.csv')\n",
    "df['DATE'] = pd.to_datetime(df['DATE'])\n",
    "df.info()"
   ]
  },
  {
   "cell_type": "code",
   "execution_count": null,
   "metadata": {},
   "outputs": [],
   "source": [
    "data = df.loc[df.groupby(pd.Grouper(key='DATE', freq='12M')).DATE.idxmax()]\n",
    "data\n",
    "data.to_csv('C:/Users/42514/OneDrive/桌面/m2sl_processed.csv', index=False)"
   ]
  },
  {
   "cell_type": "code",
   "execution_count": null,
   "metadata": {},
   "outputs": [],
   "source": [
    "df = df[(df['Date'] > '1971-12-01')]\n",
    "data = df.loc[df.groupby(pd.Grouper(key='Date', freq='12M')).Date.idxmax()]\n",
    "data\n",
    "data.to_csv('C:/Users/42514/OneDrive/桌面/data_dxy_processed.csv', index=False)"
   ]
  },
  {
   "cell_type": "code",
   "execution_count": 5,
   "metadata": {},
   "outputs": [
    {
     "name": "stdout",
     "output_type": "stream",
     "text": [
      "1 8\n",
      "2 8\n",
      "2 8\n",
      "2 8\n"
     ]
    },
    {
     "data": {
      "text/plain": [
       "8"
      ]
     },
     "execution_count": 5,
     "metadata": {},
     "output_type": "execute_result"
    }
   ],
   "source": [
    "nums = [8,8,7,7,7]\n",
    "\n",
    "def majorityElement(nums) -> int:\n",
    "    count = 1\n",
    "    n = nums[0]\n",
    "\n",
    "    for i in range(1, len(nums)):\n",
    "        print(count, n)\n",
    "        if nums[i] != n:\n",
    "            count -= 1\n",
    "            if count == 0:\n",
    "                n = nums[i]\n",
    "                print(n)\n",
    "        count += 1\n",
    "    \n",
    "    return n\n",
    "\n",
    "majorityElement(nums) "
   ]
  },
  {
   "cell_type": "code",
   "execution_count": 10,
   "metadata": {},
   "outputs": [
    {
     "data": {
      "text/plain": [
       "True"
      ]
     },
     "execution_count": 10,
     "metadata": {},
     "output_type": "execute_result"
    }
   ],
   "source": [
    "from collections import deque\n",
    "def wordBreak(s: str, wordDict) -> bool:\n",
    "    wordDict = set(wordDict)\n",
    "    q = deque([0])\n",
    "    seen = set()\n",
    "    \n",
    "    while q:\n",
    "        i = q.popleft()\n",
    "        if i in seen: continue    \n",
    "        for j in range(i+1, len(s)+1):\n",
    "            if s[i:j] in wordDict:\n",
    "                if j == len(s):\n",
    "                    return True\n",
    "                q.append(j)\n",
    "        seen.add(i)\n",
    "    \n",
    "    return False\n",
    "\n",
    "s = \"catsanddog\"\n",
    "wordDict = [\"cat\",\"cats\",\"and\",\"sand\",\"dog\"]\n",
    "wordBreak(s, wordDict) "
   ]
  },
  {
   "cell_type": "code",
   "execution_count": 11,
   "metadata": {},
   "outputs": [
    {
     "data": {
      "text/plain": [
       "['cat sand dog', 'cats and dog']"
      ]
     },
     "execution_count": 11,
     "metadata": {},
     "output_type": "execute_result"
    }
   ],
   "source": [
    "from collections import deque\n",
    "def wordBreak(s, wordDict) -> bool:\n",
    "    wordDict = set(wordDict)\n",
    "    memo = {}\n",
    "    \n",
    "    def dp(i):\n",
    "        res = []\n",
    "        if i in memo:\n",
    "            return memo[i]\n",
    "        \n",
    "        for j in range(i+1, len(s)+1):\n",
    "            if s[i:j] in wordDict:\n",
    "                if j == len(s):\n",
    "                    res.append(s[i:j])\n",
    "                else:\n",
    "                    for next_word in dp(j):\n",
    "                        res.append(s[i:j] + ' ' + next_word)\n",
    "        \n",
    "        memo[i] = res\n",
    "        return res\n",
    "    return dp(0)\n",
    "\n",
    "s = \"catsanddog\"\n",
    "wordDict = [\"cat\",\"cats\",\"and\",\"sand\",\"dog\"]\n",
    "wordBreak(s, wordDict) "
   ]
  },
  {
   "cell_type": "code",
   "execution_count": 13,
   "metadata": {},
   "outputs": [
    {
     "data": {
      "text/plain": [
       "3"
      ]
     },
     "execution_count": 13,
     "metadata": {},
     "output_type": "execute_result"
    }
   ],
   "source": [
    "from typing import List\n",
    "def coinChange(coins: List[int], amount: int) -> int:\n",
    "    dp = [amount+1 for _ in range(amount + 1)]\n",
    "    dp[0] = 0\n",
    "    \n",
    "    for i in range(1, amount + 1):\n",
    "        for c in coins:\n",
    "            if i < c: continue\n",
    "            dp[i] = min(dp[i], dp[i-c] + 1)\n",
    "    \n",
    "    return dp[-1] if dp[-1] != amount + 1 else -1\n",
    "coins = [1,2,5]\n",
    "amount = 11\n",
    "coinChange(coins, amount)"
   ]
  },
  {
   "cell_type": "code",
   "execution_count": 14,
   "metadata": {},
   "outputs": [
    {
     "data": {
      "text/plain": [
       "4"
      ]
     },
     "execution_count": 14,
     "metadata": {},
     "output_type": "execute_result"
    }
   ],
   "source": [
    "def lengthOfLIS(nums) -> int:\n",
    "    res = []\n",
    "    for n in nums:\n",
    "        i = bisect(res, n)\n",
    "        if i == len(res):\n",
    "            res.append(n)\n",
    "        else:\n",
    "            res[i] = n\n",
    "    return len(res)\n",
    "\n",
    "def bisect(res, n):\n",
    "    l, r = 0, len(res)-1\n",
    "    while l <= r:\n",
    "        m = (l + r) // 2\n",
    "        if res[m] < n:\n",
    "            l = m + 1\n",
    "        elif res[m] > n:\n",
    "            r = m - 1\n",
    "        else:\n",
    "            return m\n",
    "    \n",
    "    return l\n",
    "nums = [10,9,2,5,3,7,101,18]\n",
    "lengthOfLIS(nums)"
   ]
  },
  {
   "cell_type": "code",
   "execution_count": 16,
   "metadata": {},
   "outputs": [
    {
     "data": {
      "text/plain": [
       "6"
      ]
     },
     "execution_count": 16,
     "metadata": {},
     "output_type": "execute_result"
    }
   ],
   "source": [
    "def maxProfit(prices) -> int:\n",
    "    dp_20, dp_21 = 0, -float('inf')\n",
    "    dp_10, dp_11 = 0, -float('inf')\n",
    "    for p in prices:\n",
    "        dp_20 = max(dp_20, dp_21 + p)\n",
    "        dp_21 = max(dp_21, dp_10 - p)\n",
    "        dp_10 = max(dp_10, dp_11 + p)\n",
    "        dp_11 = max(dp_11, - p)\n",
    "    return dp_20\n",
    "prices = [3,3,5,0,0,3,1,4]\n",
    "maxProfit(prices)"
   ]
  },
  {
   "cell_type": "code",
   "execution_count": null,
   "metadata": {},
   "outputs": [],
   "source": [
    "def trap(height):\n",
    "    l, r = 0, len(height)-1\n",
    "    lmax, rmax = 0, 0\n",
    "    res = 0\n",
    "    \n",
    "    while l < r:\n",
    "        lmax = max(lmax, height[l])\n",
    "        rmax = max(rmax, height[r])\n",
    "        \n",
    "        if lmax > rmax:\n",
    "            res += rmax - height[r]\n",
    "            r -= 1\n",
    "        \n",
    "        else:\n",
    "            res += lmax - height[l]\n",
    "            l += 1\n",
    "    \n",
    "    return res"
   ]
  },
  {
   "cell_type": "code",
   "execution_count": 18,
   "metadata": {},
   "outputs": [
    {
     "data": {
      "text/plain": [
       "False"
      ]
     },
     "execution_count": 18,
     "metadata": {},
     "output_type": "execute_result"
    }
   ],
   "source": [
    "import bisect\n",
    "from collections import defaultdict\n",
    "def isSubsequence(s, t):\n",
    "    index = defaultdict(list)\n",
    "    # O(T) O(T)\n",
    "    for i, c in enumerate(t):\n",
    "        index[c].append(i)\n",
    "    \n",
    "    j = 0\n",
    "    \n",
    "    # (S)\n",
    "    for c in s:\n",
    "        if not index[c]:\n",
    "            return False\n",
    "        idx = index[c]\n",
    "        # (log(T))\n",
    "        i = bisect.bisect_left(idx, j)\n",
    "        if i == len(idx):\n",
    "            return False\n",
    "        j = idx[i] + 1\n",
    "    \n",
    "    return True\n",
    "s = \"axc\"\n",
    "t = \"ahbgdc\"\n",
    "isSubsequence(s, t)"
   ]
  },
  {
   "cell_type": "code",
   "execution_count": null,
   "metadata": {},
   "outputs": [],
   "source": [
    "def maxSum(root):\n",
    "    res = -float('inf')\n",
    "    \n",
    "    def travel(node):\n",
    "        nonlocal res\n",
    "        if not node:\n",
    "            return 0\n",
    "        l = max(0, travel(node.left))\n",
    "        r = max(0, travel(node.right))\n",
    "        \n",
    "        res = max(res, l + r + node.val)\n",
    "        return max(l, r) + node.val\n",
    "    travel(root)\n",
    "    return res"
   ]
  },
  {
   "cell_type": "code",
   "execution_count": 12,
   "metadata": {},
   "outputs": [
    {
     "name": "stdout",
     "output_type": "stream",
     "text": [
      "defaultdict(<class 'list'>, {'*og': ['dog', 'cog', 'log'], 'd*g': ['dog'], 'do*': ['dog', 'dot'], '*ot': ['dot', 'lot', 'hot'], 'd*t': ['dot'], 'c*g': ['cog'], 'co*': ['cog'], 'l*t': ['lot'], 'lo*': ['lot', 'log'], 'h*t': ['hot'], 'ho*': ['hot'], 'l*g': ['log']})\n"
     ]
    },
    {
     "data": {
      "text/plain": [
       "5"
      ]
     },
     "execution_count": 12,
     "metadata": {},
     "output_type": "execute_result"
    }
   ],
   "source": [
    "from collections import defaultdict, deque\n",
    "beginWord = \"hit\"\n",
    "endWord = \"cog\"\n",
    "wordList = [\"hot\",\"dot\",\"dog\",\"lot\",\"log\",\"cog\"]\n",
    "def ladderLength(beginWord, endWord, wordList) -> int:\n",
    "    wordList = set(wordList)\n",
    "    length = len(beginWord)\n",
    "    if endWord not in wordList or len(beginWord) != len(endWord):\n",
    "        return -1\n",
    "    \n",
    "    neighbor = defaultdict(list)\n",
    "    for word in wordList:\n",
    "        for i in range(length):\n",
    "            neighbor[word[: i] + '*' + word[i + 1:]].append(word)\n",
    "\n",
    "    print(neighbor)\n",
    "    q = deque([(beginWord, 1)])\n",
    "    if beginWord in wordList:\n",
    "        wordList.remove(beginWord)\n",
    "    \n",
    "    while q:\n",
    "        word, step = q.popleft()\n",
    "\n",
    "        for i in range(length):\n",
    "            pattern = word[:i] + '*' + word[i + 1:]\n",
    "            for nei in neighbor[pattern]:\n",
    "                if nei in wordList:\n",
    "                    if nei == endWord:\n",
    "                        return step + 1\n",
    "\n",
    "                    wordList.remove(nei)\n",
    "                    q.append((nei, step + 1))\n",
    "    \n",
    "    return -1\n",
    "\n",
    "ladderLength(beginWord, endWord, wordList)"
   ]
  }
 ],
 "metadata": {
  "kernelspec": {
   "display_name": "base",
   "language": "python",
   "name": "python3"
  },
  "language_info": {
   "codemirror_mode": {
    "name": "ipython",
    "version": 3
   },
   "file_extension": ".py",
   "mimetype": "text/x-python",
   "name": "python",
   "nbconvert_exporter": "python",
   "pygments_lexer": "ipython3",
   "version": "3.9.13"
  },
  "orig_nbformat": 4,
  "vscode": {
   "interpreter": {
    "hash": "91bb753b057673435fb8d6f6a083e6c818364728098c7ae050ca3a25357dd754"
   }
  }
 },
 "nbformat": 4,
 "nbformat_minor": 2
}
